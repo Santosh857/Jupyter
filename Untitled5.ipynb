{
 "cells": [
  {
   "cell_type": "code",
   "execution_count": 5,
   "id": "8dfdaa43",
   "metadata": {},
   "outputs": [
    {
     "name": "stdout",
     "output_type": "stream",
     "text": [
      "98.6 f\n",
      "310.15 k\n"
     ]
    }
   ],
   "source": [
    "t = 37\n",
    "d = \"c\"\n",
    "if (d == \"c\"):\n",
    "    res = (9*t)/5+32\n",
    "    unit = \"f\"\n",
    "    rus = t+273.15\n",
    "    un = \"k\"\n",
    "    print(res,unit)\n",
    "    print(rus,un)\n",
    "elif (d == \"f\"):\n",
    "    res = (5*(t-32))/9\n",
    "    unit = \"c\"\n",
    "    rus = ((t-32)*5/9)+273.15\n",
    "    un = \"k\"\n",
    "    print(res,unit)\n",
    "    print(rus,un)\n",
    "elif (d == \"k\"):\n",
    "    res = (t-273.15)\n",
    "    unit = \"c\"\n",
    "    rus = ((t-273)*9/5)+32\n",
    "    un =\"f\"\n",
    "    print(res,unit)\n",
    "    print(rus,un)\n",
    "else:\n",
    "    print(\"invalid data\")"
   ]
  },
  {
   "cell_type": "code",
   "execution_count": null,
   "id": "74f9a5fc",
   "metadata": {},
   "outputs": [],
   "source": []
  }
 ],
 "metadata": {
  "kernelspec": {
   "display_name": "Python 3 (ipykernel)",
   "language": "python",
   "name": "python3"
  },
  "language_info": {
   "codemirror_mode": {
    "name": "ipython",
    "version": 3
   },
   "file_extension": ".py",
   "mimetype": "text/x-python",
   "name": "python",
   "nbconvert_exporter": "python",
   "pygments_lexer": "ipython3",
   "version": "3.10.0"
  }
 },
 "nbformat": 4,
 "nbformat_minor": 5
}
