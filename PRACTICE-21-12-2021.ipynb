{
 "cells": [
  {
   "cell_type": "code",
   "execution_count": 1,
   "id": "c58b083f",
   "metadata": {},
   "outputs": [
    {
     "name": "stdout",
     "output_type": "stream",
     "text": [
      "Enter -1 -1 to finish input\n",
      "Enter two numeric values separated by space:1 2\n",
      "Enter two numeric values separated by space:3 4\n",
      "Enter two numeric values separated by space:5 6\n",
      "Enter two numeric values separated by space:-1 -1\n"
     ]
    }
   ],
   "source": [
    "values = []\n",
    "print(\"Enter -1 -1 to finish input\")\n",
    "while True:\n",
    "    ip = input(\"Enter two numeric values separated by space:\")\n",
    "    x, y = ip.split(\" \")\n",
    "    if int(x) == -1 and int(y) == -1:\n",
    "        break\n",
    "    values.append((int(x), int(y)))"
   ]
  },
  {
   "cell_type": "code",
   "execution_count": 2,
   "id": "72bb8972",
   "metadata": {},
   "outputs": [
    {
     "data": {
      "text/plain": [
       "[(1, 2), (3, 4), (5, 6)]"
      ]
     },
     "execution_count": 2,
     "metadata": {},
     "output_type": "execute_result"
    }
   ],
   "source": [
    "values"
   ]
  },
  {
   "cell_type": "code",
   "execution_count": null,
   "id": "3f4a4515",
   "metadata": {},
   "outputs": [],
   "source": []
  },
  {
   "cell_type": "code",
   "execution_count": null,
   "id": "771800a1",
   "metadata": {},
   "outputs": [],
   "source": []
  }
 ],
 "metadata": {
  "kernelspec": {
   "display_name": "Python 3 (ipykernel)",
   "language": "python",
   "name": "python3"
  },
  "language_info": {
   "codemirror_mode": {
    "name": "ipython",
    "version": 3
   },
   "file_extension": ".py",
   "mimetype": "text/x-python",
   "name": "python",
   "nbconvert_exporter": "python",
   "pygments_lexer": "ipython3",
   "version": "3.10.0"
  }
 },
 "nbformat": 4,
 "nbformat_minor": 5
}
