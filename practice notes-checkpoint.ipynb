{
 "cells": [
  {
   "cell_type": "code",
   "execution_count": 21,
   "id": "a370fefb",
   "metadata": {},
   "outputs": [],
   "source": [
    "team = [\"virat\",\"rohit\",\"sachin\",\"chahar\",\"dhoni\"]"
   ]
  },
  {
   "cell_type": "code",
   "execution_count": 23,
   "id": "11dc55a6",
   "metadata": {},
   "outputs": [
    {
     "name": "stdout",
     "output_type": "stream",
     "text": [
      "virat\n",
      "rohit\n",
      "sachin\n"
     ]
    }
   ],
   "source": [
    "vowels = [\"a\",\"e\",\"i\",\"o\",\"u\"]\n",
    "for name in team:\n",
    "    ch = name[1]\n",
    "    if ch.upper() in vowels:\n",
    "        print(name)"
   ]
  },
  {
   "cell_type": "code",
   "execution_count": 12,
   "id": "e5b5752f",
   "metadata": {},
   "outputs": [
    {
     "data": {
      "text/plain": [
       "list[['virat', 'rohit', 'sachin', 'chahar', 'dhoni']]"
      ]
     },
     "execution_count": 12,
     "metadata": {},
     "output_type": "execute_result"
    }
   ],
   "source": [
    "list[Team]"
   ]
  },
  {
   "cell_type": "code",
   "execution_count": 26,
   "id": "16bf0a57",
   "metadata": {},
   "outputs": [
    {
     "name": "stdout",
     "output_type": "stream",
     "text": [
      "virat\n",
      "rohit\n",
      "SACHIN\n",
      "chahar\n",
      "dhoni\n"
     ]
    }
   ],
   "source": [
    "team = [\"virat\",\"rohit\",\"sachin\",\"chahar\",\"dhoni\"]\n",
    "vowels = [\"a\",\"e\",\"i\",\"o\",\"u\"]\n",
    "for name in team:\n",
    "    x = name[1].lower()\n",
    "    y = name[4].lower()\n",
    "    \n",
    "    if x in vowels and y in vowels:\n",
    "        print(name.upper())\n",
    "    elif x in vowels or y in vowels:\n",
    "        print(name.lower())"
   ]
  },
  {
   "cell_type": "code",
   "execution_count": 27,
   "id": "18b2cc19",
   "metadata": {},
   "outputs": [
    {
     "name": "stdout",
     "output_type": "stream",
     "text": [
      "1 4\n",
      "2 5\n",
      "3 6\n"
     ]
    }
   ],
   "source": [
    "a = [1, 2, 3]\n",
    "b = [4, 5, 6]\n",
    "\n",
    "for i in range (len(a)):\n",
    "    print(a[i],b[i])"
   ]
  },
  {
   "cell_type": "code",
   "execution_count": 42,
   "id": "9718a788",
   "metadata": {},
   "outputs": [
    {
     "name": "stdout",
     "output_type": "stream",
     "text": [
      "1 4\n",
      "-----\n",
      "1 5\n",
      "-----\n",
      "1 6\n",
      "-----\n",
      "2 4\n",
      "-----\n",
      "2 5\n",
      "-----\n",
      "2 6\n",
      "-----\n",
      "3 4\n",
      "-----\n",
      "3 5\n",
      "-----\n",
      "3 6\n",
      "-----\n"
     ]
    }
   ],
   "source": [
    "a = [1, 2, 3,]\n",
    "b = [4, 5, 6,]\n",
    "for x in a:\n",
    "    for y in b:\n",
    "        print(x,y)\n",
    "        print(\"-----\")\n",
    "        "
   ]
  },
  {
   "cell_type": "code",
   "execution_count": null,
   "id": "efa1e7dd",
   "metadata": {},
   "outputs": [],
   "source": []
  },
  {
   "cell_type": "code",
   "execution_count": null,
   "id": "a191a734",
   "metadata": {},
   "outputs": [],
   "source": []
  },
  {
   "cell_type": "code",
   "execution_count": null,
   "id": "047acf24",
   "metadata": {},
   "outputs": [],
   "source": []
  },
  {
   "cell_type": "code",
   "execution_count": null,
   "id": "be240f73",
   "metadata": {},
   "outputs": [],
   "source": []
  },
  {
   "cell_type": "code",
   "execution_count": null,
   "id": "dacbd04f",
   "metadata": {},
   "outputs": [],
   "source": []
  },
  {
   "cell_type": "code",
   "execution_count": null,
   "id": "030c8290",
   "metadata": {},
   "outputs": [],
   "source": []
  },
  {
   "cell_type": "code",
   "execution_count": null,
   "id": "1aa67fda",
   "metadata": {},
   "outputs": [],
   "source": []
  },
  {
   "cell_type": "code",
   "execution_count": null,
   "id": "b70cdda5",
   "metadata": {},
   "outputs": [],
   "source": []
  },
  {
   "cell_type": "code",
   "execution_count": null,
   "id": "ac72f816",
   "metadata": {},
   "outputs": [],
   "source": []
  }
 ],
 "metadata": {
  "kernelspec": {
   "display_name": "Python 3 (ipykernel)",
   "language": "python",
   "name": "python3"
  },
  "language_info": {
   "codemirror_mode": {
    "name": "ipython",
    "version": 3
   },
   "file_extension": ".py",
   "mimetype": "text/x-python",
   "name": "python",
   "nbconvert_exporter": "python",
   "pygments_lexer": "ipython3",
   "version": "3.10.0"
  }
 },
 "nbformat": 4,
 "nbformat_minor": 5
}
