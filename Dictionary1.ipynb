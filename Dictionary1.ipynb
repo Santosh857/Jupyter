{
 "cells": [
  {
   "cell_type": "code",
   "execution_count": 1,
   "id": "bb68e807",
   "metadata": {},
   "outputs": [],
   "source": [
    "guru = {\"name\" : \"Gomathi\",\"sex\" : \"danike telidu\",\"sl_no\" : 100}"
   ]
  },
  {
   "cell_type": "code",
   "execution_count": 2,
   "id": "021cadf5",
   "metadata": {},
   "outputs": [
    {
     "data": {
      "text/plain": [
       "dict"
      ]
     },
     "execution_count": 2,
     "metadata": {},
     "output_type": "execute_result"
    }
   ],
   "source": [
    "type(guru)"
   ]
  },
  {
   "cell_type": "code",
   "execution_count": 6,
   "id": "aef88c93",
   "metadata": {},
   "outputs": [
    {
     "data": {
      "text/plain": [
       "{'name': 'Gomathi', 'sex': 'danike telidu', 'sl_no': 100}"
      ]
     },
     "execution_count": 6,
     "metadata": {},
     "output_type": "execute_result"
    }
   ],
   "source": [
    "guru"
   ]
  },
  {
   "cell_type": "code",
   "execution_count": 7,
   "id": "714eda83",
   "metadata": {},
   "outputs": [
    {
     "data": {
      "text/plain": [
       "'Gomathi'"
      ]
     },
     "execution_count": 7,
     "metadata": {},
     "output_type": "execute_result"
    }
   ],
   "source": [
    "guru[\"name\"]"
   ]
  },
  {
   "cell_type": "code",
   "execution_count": 8,
   "id": "59b8ba34",
   "metadata": {},
   "outputs": [
    {
     "data": {
      "text/plain": [
       "'danike telidu'"
      ]
     },
     "execution_count": 8,
     "metadata": {},
     "output_type": "execute_result"
    }
   ],
   "source": [
    "guru[\"sex\"]"
   ]
  },
  {
   "cell_type": "code",
   "execution_count": 9,
   "id": "b14e7874",
   "metadata": {},
   "outputs": [
    {
     "data": {
      "text/plain": [
       "100"
      ]
     },
     "execution_count": 9,
     "metadata": {},
     "output_type": "execute_result"
    }
   ],
   "source": [
    "guru[\"sl_no\"]"
   ]
  },
  {
   "cell_type": "code",
   "execution_count": null,
   "id": "1e172783",
   "metadata": {},
   "outputs": [],
   "source": []
  },
  {
   "cell_type": "code",
   "execution_count": null,
   "id": "b99ffe1d",
   "metadata": {},
   "outputs": [],
   "source": []
  },
  {
   "cell_type": "code",
   "execution_count": null,
   "id": "6ee9e04f",
   "metadata": {},
   "outputs": [],
   "source": []
  },
  {
   "cell_type": "code",
   "execution_count": null,
   "id": "38cc8cd8",
   "metadata": {},
   "outputs": [],
   "source": []
  }
 ],
 "metadata": {
  "kernelspec": {
   "display_name": "Python 3 (ipykernel)",
   "language": "python",
   "name": "python3"
  },
  "language_info": {
   "codemirror_mode": {
    "name": "ipython",
    "version": 3
   },
   "file_extension": ".py",
   "mimetype": "text/x-python",
   "name": "python",
   "nbconvert_exporter": "python",
   "pygments_lexer": "ipython3",
   "version": "3.10.0"
  }
 },
 "nbformat": 4,
 "nbformat_minor": 5
}
