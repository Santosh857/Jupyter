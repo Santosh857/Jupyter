{
 "cells": [
  {
   "cell_type": "code",
   "execution_count": 4,
   "id": "381d4666",
   "metadata": {
    "scrolled": false
   },
   "outputs": [
    {
     "name": "stdout",
     "output_type": "stream",
     "text": [
      "4 7\n",
      "4 8\n",
      "4 9\n",
      "5 7\n",
      "5 8\n",
      "5 9\n",
      "6 7\n",
      "6 8\n",
      "6 9\n"
     ]
    }
   ],
   "source": [
    "a = [4, 5, 6]\n",
    "b = [7, 8, 9]\n",
    "\n",
    "for i in range(len(a)):\n",
    "    count = 0\n",
    "    while count <len(b):\n",
    "        print(a[i],b[count])\n",
    "        count +=1"
   ]
  },
  {
   "cell_type": "code",
   "execution_count": 2,
   "id": "12d737d9",
   "metadata": {},
   "outputs": [
    {
     "name": "stdout",
     "output_type": "stream",
     "text": [
      "2 3 5 7 11 13 17 19 23 29 31 37 41 43 47 53 59 61 67 71 73 79 83 89 97 "
     ]
    }
   ],
   "source": [
    "for num in range(100):\n",
    "    if num > 1:\n",
    "        for i in range(2,num):\n",
    "            if((num % i)==0) & (num!=i):\n",
    "                break\n",
    "        else:\n",
    "            print(num,end = \" \")"
   ]
  },
  {
   "cell_type": "code",
   "execution_count": 11,
   "id": "a91e13c3",
   "metadata": {},
   "outputs": [
    {
     "name": "stdout",
     "output_type": "stream",
     "text": [
      "outer loop start\n",
      "1\n",
      "inner loop start\n",
      "12\n",
      "13\n",
      "14\n",
      "15\n",
      "outer loop start\n",
      "2\n",
      "inner loop start\n",
      "12\n",
      "13\n",
      "14\n",
      "15\n",
      "ravi\n",
      "outer loop start\n",
      "3\n",
      "inner loop start\n",
      "12\n",
      "13\n",
      "14\n",
      "15\n",
      "outer loop start\n",
      "4\n",
      "inner loop start\n",
      "12\n",
      "13\n",
      "14\n",
      "15\n",
      "ravi\n"
     ]
    }
   ],
   "source": [
    "for p in range(1,5):\n",
    "    print(\"outer loop start\")\n",
    "    print ( p)\n",
    "    print (\"inner loop start\")\n",
    "    for k in range(12,16):         \n",
    "        print(k)        \n",
    "    if (p==2 or p==4):\n",
    "        print(\"ravi\")\n",
    "    continue"
   ]
  },
  {
   "cell_type": "code",
   "execution_count": 12,
   "id": "2905b6eb",
   "metadata": {},
   "outputs": [
    {
     "name": "stdout",
     "output_type": "stream",
     "text": [
      "2, 3, 5, 7, 11, 13, 17, 19, 23, 29, 31, 37, 41, 43, 47, 53, 59, 61, 67, 71, 73, 79, 83, 89, 97, "
     ]
    }
   ],
   "source": [
    "for num in range(1,100,1):\n",
    "    if num > 1:\n",
    "        for i in range(2,num):\n",
    "            if((num % i)==0):\n",
    "                break\n",
    "        else:\n",
    "            print(num,end=', ')  \n"
   ]
  },
  {
   "cell_type": "code",
   "execution_count": null,
   "id": "56ca0488",
   "metadata": {},
   "outputs": [],
   "source": []
  },
  {
   "cell_type": "code",
   "execution_count": null,
   "id": "86cc00da",
   "metadata": {},
   "outputs": [],
   "source": []
  },
  {
   "cell_type": "code",
   "execution_count": null,
   "id": "0b9c1528",
   "metadata": {},
   "outputs": [],
   "source": []
  }
 ],
 "metadata": {
  "kernelspec": {
   "display_name": "Python 3 (ipykernel)",
   "language": "python",
   "name": "python3"
  },
  "language_info": {
   "codemirror_mode": {
    "name": "ipython",
    "version": 3
   },
   "file_extension": ".py",
   "mimetype": "text/x-python",
   "name": "python",
   "nbconvert_exporter": "python",
   "pygments_lexer": "ipython3",
   "version": "3.10.0"
  }
 },
 "nbformat": 4,
 "nbformat_minor": 5
}
