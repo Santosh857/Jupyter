{
 "cells": [
  {
   "cell_type": "code",
   "execution_count": 21,
   "id": "a370fefb",
   "metadata": {},
   "outputs": [],
   "source": [
    "team = [\"virat\",\"rohit\",\"sachin\",\"chahar\",\"dhoni\"]"
   ]
  },
  {
   "cell_type": "code",
   "execution_count": 23,
   "id": "7de35c30",
   "metadata": {},
   "outputs": [
    {
     "name": "stdout",
     "output_type": "stream",
     "text": [
      "virat\n",
      "rohit\n",
      "sachin\n"
     ]
    }
   ],
   "source": [
    "vowels = [\"a\",\"e\",\"i\",\"o\",\"u\"]\n",
    "for name in team:\n",
    "    ch = name[1]\n",
    "    if ch.upper() in vowels:\n",
    "        print(name)"
   ]
  },
  {
   "cell_type": "code",
   "execution_count": 12,
   "id": "d3d2dc07",
   "metadata": {},
   "outputs": [
    {
     "data": {
      "text/plain": [
       "list[['virat', 'rohit', 'sachin', 'chahar', 'dhoni']]"
      ]
     },
     "execution_count": 12,
     "metadata": {},
     "output_type": "execute_result"
    }
   ],
   "source": [
    "list[Team]"
   ]
  },
  {
   "cell_type": "code",
   "execution_count": 26,
   "id": "864ccec3",
   "metadata": {},
   "outputs": [
    {
     "name": "stdout",
     "output_type": "stream",
     "text": [
      "virat\n",
      "rohit\n",
      "SACHIN\n",
      "chahar\n",
      "dhoni\n"
     ]
    }
   ],
   "source": [
    "team = [\"virat\",\"rohit\",\"sachin\",\"chahar\",\"dhoni\"]\n",
    "vowels = [\"a\",\"e\",\"i\",\"o\",\"u\"]\n",
    "for name in team:\n",
    "    x = name[1].lower()\n",
    "    y = name[4].lower()\n",
    "    \n",
    "    if x in vowels and y in vowels:\n",
    "        print(name.upper())\n",
    "    elif x in vowels or y in vowels:\n",
    "        print(name.lower())"
   ]
  },
  {
   "cell_type": "code",
   "execution_count": 27,
   "id": "500319d7",
   "metadata": {},
   "outputs": [
    {
     "name": "stdout",
     "output_type": "stream",
     "text": [
      "1 4\n",
      "2 5\n",
      "3 6\n"
     ]
    }
   ],
   "source": [
    "a = [1, 2, 3]\n",
    "b = [4, 5, 6]\n",
    "\n",
    "for i in range (len(a)):\n",
    "    print(a[i],b[i])"
   ]
  },
  {
   "cell_type": "code",
   "execution_count": 42,
   "id": "041c88b6",
   "metadata": {},
   "outputs": [
    {
     "name": "stdout",
     "output_type": "stream",
     "text": [
      "1 4\n",
      "-----\n",
      "1 5\n",
      "-----\n",
      "1 6\n",
      "-----\n",
      "2 4\n",
      "-----\n",
      "2 5\n",
      "-----\n",
      "2 6\n",
      "-----\n",
      "3 4\n",
      "-----\n",
      "3 5\n",
      "-----\n",
      "3 6\n",
      "-----\n"
     ]
    }
   ],
   "source": [
    "a = [1, 2, 3,]\n",
    "b = [4, 5, 6,]\n",
    "for x in a:\n",
    "    for y in b:\n",
    "        print(x,y)\n",
    "        print(\"-----\")\n",
    "        "
   ]
  },
  {
   "cell_type": "code",
   "execution_count": null,
   "id": "df4d2fb8",
   "metadata": {},
   "outputs": [],
   "source": []
  },
  {
   "cell_type": "code",
   "execution_count": null,
   "id": "f57f02a0",
   "metadata": {},
   "outputs": [],
   "source": []
  },
  {
   "cell_type": "code",
   "execution_count": null,
   "id": "903ab214",
   "metadata": {},
   "outputs": [],
   "source": []
  },
  {
   "cell_type": "code",
   "execution_count": null,
   "id": "1868971f",
   "metadata": {},
   "outputs": [],
   "source": []
  },
  {
   "cell_type": "code",
   "execution_count": null,
   "id": "da3367b7",
   "metadata": {},
   "outputs": [],
   "source": []
  },
  {
   "cell_type": "code",
   "execution_count": null,
   "id": "478c743a",
   "metadata": {},
   "outputs": [],
   "source": []
  },
  {
   "cell_type": "code",
   "execution_count": null,
   "id": "6a46f8b9",
   "metadata": {},
   "outputs": [],
   "source": []
  },
  {
   "cell_type": "code",
   "execution_count": null,
   "id": "931ce00d",
   "metadata": {},
   "outputs": [],
   "source": []
  },
  {
   "cell_type": "code",
   "execution_count": null,
   "id": "b4b89c9f",
   "metadata": {},
   "outputs": [],
   "source": []
  }
 ],
 "metadata": {
  "kernelspec": {
   "display_name": "Python 3 (ipykernel)",
   "language": "python",
   "name": "python3"
  },
  "language_info": {
   "codemirror_mode": {
    "name": "ipython",
    "version": 3
   },
   "file_extension": ".py",
   "mimetype": "text/x-python",
   "name": "python",
   "nbconvert_exporter": "python",
   "pygments_lexer": "ipython3",
   "version": "3.10.0"
  }
 },
 "nbformat": 4,
 "nbformat_minor": 5
}
