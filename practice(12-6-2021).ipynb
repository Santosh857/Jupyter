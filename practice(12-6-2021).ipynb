{
 "cells": [
  {
   "cell_type": "code",
   "execution_count": 22,
   "id": "4625b753",
   "metadata": {},
   "outputs": [
    {
     "name": "stdout",
     "output_type": "stream",
     "text": [
      "x and y pass the test\n",
      "Q4\n"
     ]
    }
   ],
   "source": [
    "x=3\n",
    "y=-2\n",
    "z=-2\n",
    "if (x>0) and (y>0):\n",
    "    print(\"x and y pass the test\")\n",
    "    if z>0:\n",
    "        print(\"Q1\")\n",
    "    elif z<0:    \n",
    "        print(\"Q2\")\n",
    "elif x>0 and y<0:\n",
    "    print(\"x and y pass the test\")\n",
    "    if z>0:\n",
    "        print(\"Q3\")\n",
    "    elif z<0:\n",
    "        print(\"Q4\")\n",
    "elif x<0 and y<0:\n",
    "    print(\"x and y pass the test\")\n",
    "    if z>0:\n",
    "        print(\"Q5\")\n",
    "    elif z<0:\n",
    "        print(\"Q6\")\n",
    "elif x<0 and y>0:\n",
    "    print(\"x and y pass the test\")\n",
    "    if z>0:\n",
    "        print(\"Q7\")\n",
    "    elif z<0:\n",
    "        print(\"Q8\")\n",
    "else:\n",
    "    print(\"dobbindi\")"
   ]
  },
  {
   "cell_type": "code",
   "execution_count": null,
   "id": "cde90216",
   "metadata": {},
   "outputs": [],
   "source": []
  },
  {
   "cell_type": "code",
   "execution_count": null,
   "id": "31e69a56",
   "metadata": {},
   "outputs": [],
   "source": []
  },
  {
   "cell_type": "code",
   "execution_count": null,
   "id": "f84c1955",
   "metadata": {},
   "outputs": [],
   "source": []
  },
  {
   "cell_type": "code",
   "execution_count": null,
   "id": "133f2910",
   "metadata": {},
   "outputs": [],
   "source": []
  },
  {
   "cell_type": "code",
   "execution_count": null,
   "id": "1716da7f",
   "metadata": {},
   "outputs": [],
   "source": []
  },
  {
   "cell_type": "code",
   "execution_count": null,
   "id": "5e30d97d",
   "metadata": {},
   "outputs": [],
   "source": []
  },
  {
   "cell_type": "code",
   "execution_count": null,
   "id": "a9710fb8",
   "metadata": {},
   "outputs": [],
   "source": []
  },
  {
   "cell_type": "code",
   "execution_count": null,
   "id": "8a907e35",
   "metadata": {},
   "outputs": [],
   "source": []
  }
 ],
 "metadata": {
  "kernelspec": {
   "display_name": "Python 3 (ipykernel)",
   "language": "python",
   "name": "python3"
  },
  "language_info": {
   "codemirror_mode": {
    "name": "ipython",
    "version": 3
   },
   "file_extension": ".py",
   "mimetype": "text/x-python",
   "name": "python",
   "nbconvert_exporter": "python",
   "pygments_lexer": "ipython3",
   "version": "3.10.0"
  }
 },
 "nbformat": 4,
 "nbformat_minor": 5
}
