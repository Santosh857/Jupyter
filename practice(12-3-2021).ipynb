{
 "cells": [
  {
   "cell_type": "code",
   "execution_count": 3,
   "id": "b1a86683",
   "metadata": {},
   "outputs": [],
   "source": [
    "X = -17 & 12"
   ]
  },
  {
   "cell_type": "code",
   "execution_count": 4,
   "id": "bf609943",
   "metadata": {},
   "outputs": [
    {
     "data": {
      "text/plain": [
       "12"
      ]
     },
     "execution_count": 4,
     "metadata": {},
     "output_type": "execute_result"
    }
   ],
   "source": [
    "X"
   ]
  },
  {
   "cell_type": "code",
   "execution_count": 7,
   "id": "15003484",
   "metadata": {},
   "outputs": [
    {
     "data": {
      "text/plain": [
       "-12346"
      ]
     },
     "execution_count": 7,
     "metadata": {},
     "output_type": "execute_result"
    }
   ],
   "source": [
    " ~12345"
   ]
  },
  {
   "cell_type": "code",
   "execution_count": 6,
   "id": "4e561e53",
   "metadata": {},
   "outputs": [
    {
     "data": {
      "text/plain": [
       "-12346"
      ]
     },
     "execution_count": 6,
     "metadata": {},
     "output_type": "execute_result"
    }
   ],
   "source": [
    "X"
   ]
  },
  {
   "cell_type": "code",
   "execution_count": null,
   "id": "0b2d86c7",
   "metadata": {},
   "outputs": [],
   "source": []
  }
 ],
 "metadata": {
  "kernelspec": {
   "display_name": "Python 3 (ipykernel)",
   "language": "python",
   "name": "python3"
  },
  "language_info": {
   "codemirror_mode": {
    "name": "ipython",
    "version": 3
   },
   "file_extension": ".py",
   "mimetype": "text/x-python",
   "name": "python",
   "nbconvert_exporter": "python",
   "pygments_lexer": "ipython3",
   "version": "3.10.0"
  }
 },
 "nbformat": 4,
 "nbformat_minor": 5
}
