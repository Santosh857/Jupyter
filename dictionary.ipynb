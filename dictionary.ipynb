{
 "cells": [
  {
   "cell_type": "code",
   "execution_count": 1,
   "id": "e9d06ccf",
   "metadata": {},
   "outputs": [],
   "source": [
    "guru = {\"name\" : \"Gomathi\",\"sex\" : \"danike telidu\",\"sl_no\" : 100}"
   ]
  },
  {
   "cell_type": "code",
   "execution_count": 2,
   "id": "d64e4520",
   "metadata": {},
   "outputs": [
    {
     "data": {
      "text/plain": [
       "dict"
      ]
     },
     "execution_count": 2,
     "metadata": {},
     "output_type": "execute_result"
    }
   ],
   "source": [
    "type(guru)"
   ]
  },
  {
   "cell_type": "code",
   "execution_count": 6,
   "id": "22601094",
   "metadata": {},
   "outputs": [
    {
     "data": {
      "text/plain": [
       "{'name': 'Gomathi', 'sex': 'danike telidu', 'sl_no': 100}"
      ]
     },
     "execution_count": 6,
     "metadata": {},
     "output_type": "execute_result"
    }
   ],
   "source": [
    "guru"
   ]
  },
  {
   "cell_type": "code",
   "execution_count": 7,
   "id": "4669f61f",
   "metadata": {},
   "outputs": [
    {
     "data": {
      "text/plain": [
       "'Gomathi'"
      ]
     },
     "execution_count": 7,
     "metadata": {},
     "output_type": "execute_result"
    }
   ],
   "source": [
    "guru[\"name\"]"
   ]
  },
  {
   "cell_type": "code",
   "execution_count": 8,
   "id": "805b2a0e",
   "metadata": {},
   "outputs": [
    {
     "data": {
      "text/plain": [
       "'danike telidu'"
      ]
     },
     "execution_count": 8,
     "metadata": {},
     "output_type": "execute_result"
    }
   ],
   "source": [
    "guru[\"sex\"]"
   ]
  },
  {
   "cell_type": "code",
   "execution_count": 9,
   "id": "0f5a63b8",
   "metadata": {},
   "outputs": [
    {
     "data": {
      "text/plain": [
       "100"
      ]
     },
     "execution_count": 9,
     "metadata": {},
     "output_type": "execute_result"
    }
   ],
   "source": [
    "guru[\"sl_no\"]"
   ]
  },
  {
   "cell_type": "code",
   "execution_count": null,
   "id": "01c7f0ad",
   "metadata": {},
   "outputs": [],
   "source": []
  },
  {
   "cell_type": "code",
   "execution_count": null,
   "id": "b302db98",
   "metadata": {},
   "outputs": [],
   "source": []
  },
  {
   "cell_type": "code",
   "execution_count": null,
   "id": "519ba8f8",
   "metadata": {},
   "outputs": [],
   "source": []
  },
  {
   "cell_type": "code",
   "execution_count": null,
   "id": "13ec41b2",
   "metadata": {},
   "outputs": [],
   "source": []
  }
 ],
 "metadata": {
  "kernelspec": {
   "display_name": "Python 3 (ipykernel)",
   "language": "python",
   "name": "python3"
  },
  "language_info": {
   "codemirror_mode": {
    "name": "ipython",
    "version": 3
   },
   "file_extension": ".py",
   "mimetype": "text/x-python",
   "name": "python",
   "nbconvert_exporter": "python",
   "pygments_lexer": "ipython3",
   "version": "3.10.0"
  }
 },
 "nbformat": 4,
 "nbformat_minor": 5
}
