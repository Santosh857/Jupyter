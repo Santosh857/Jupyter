{
 "cells": [
  {
   "cell_type": "code",
   "execution_count": 2,
   "id": "8b1e14fb",
   "metadata": {},
   "outputs": [
    {
     "name": "stdout",
     "output_type": "stream",
     "text": [
      "10  power of  2  is :  100\n"
     ]
    }
   ],
   "source": [
    "#Write a Python class to implement pow(x, n)\n",
    "\n",
    "#Tpye 1\n",
    "\n",
    "\n",
    "class power:\n",
    "    def __init__(self,p,n):\n",
    "        self.number = p\n",
    "        self.exponent = n\n",
    "        self.po()\n",
    "    def po(self):\n",
    "        print(self.number, \" power of \", self.exponent, \" is : \",(self.number**self.exponent))\n",
    "k = power(10,2)"
   ]
  },
  {
   "cell_type": "code",
   "execution_count": 3,
   "id": "e1986c6c",
   "metadata": {},
   "outputs": [
    {
     "name": "stdout",
     "output_type": "stream",
     "text": [
      "100\n"
     ]
    }
   ],
   "source": [
    "#Type 2\n",
    "\n",
    "class power:\n",
    "    def __init__(self,p,n):\n",
    "        self.number = p\n",
    "        self.exponent = n\n",
    "        res = p**n\n",
    "        print(res)\n",
    "k = power(10,2)"
   ]
  }
 ],
 "metadata": {
  "kernelspec": {
   "display_name": "Python 3 (ipykernel)",
   "language": "python",
   "name": "python3"
  },
  "language_info": {
   "codemirror_mode": {
    "name": "ipython",
    "version": 3
   },
   "file_extension": ".py",
   "mimetype": "text/x-python",
   "name": "python",
   "nbconvert_exporter": "python",
   "pygments_lexer": "ipython3",
   "version": "3.10.0"
  }
 },
 "nbformat": 4,
 "nbformat_minor": 5
}
