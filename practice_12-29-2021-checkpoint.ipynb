{
 "cells": [
  {
   "cell_type": "code",
   "execution_count": 4,
   "id": "de06c877",
   "metadata": {},
   "outputs": [
    {
     "name": "stdout",
     "output_type": "stream",
     "text": [
      "[True, False, False]\n"
     ]
    }
   ],
   "source": [
    "def day(a,b):\n",
    "    s = []\n",
    "    for x,y in zip(a,b):\n",
    "        s.append(x > y)\n",
    "    return s\n",
    "u = [12,13,17]\n",
    "v = [10,14,47]\n",
    "res = day(u,v)\n",
    "print (res)"
   ]
  },
  {
   "cell_type": "code",
   "execution_count": 22,
   "id": "82f50494",
   "metadata": {},
   "outputs": [
    {
     "name": "stdout",
     "output_type": "stream",
     "text": [
      "2 3 5 7 11 13 17 19 "
     ]
    }
   ],
   "source": [
    "for i in range(20):\n",
    "    if i > 1:\n",
    "        for x in range(2, i):\n",
    "            if(i % x) == 0:\n",
    "                break\n",
    "        else:\n",
    "            print(i,end = \" \")"
   ]
  },
  {
   "cell_type": "code",
   "execution_count": null,
   "id": "5050ca8d",
   "metadata": {},
   "outputs": [],
   "source": []
  }
 ],
 "metadata": {
  "kernelspec": {
   "display_name": "Python 3 (ipykernel)",
   "language": "python",
   "name": "python3"
  },
  "language_info": {
   "codemirror_mode": {
    "name": "ipython",
    "version": 3
   },
   "file_extension": ".py",
   "mimetype": "text/x-python",
   "name": "python",
   "nbconvert_exporter": "python",
   "pygments_lexer": "ipython3",
   "version": "3.10.0"
  }
 },
 "nbformat": 4,
 "nbformat_minor": 5
}
