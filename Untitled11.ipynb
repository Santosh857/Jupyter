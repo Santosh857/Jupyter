{
 "cells": [
  {
   "cell_type": "code",
   "execution_count": 5,
   "id": "5298f356",
   "metadata": {},
   "outputs": [
    {
     "name": "stdout",
     "output_type": "stream",
     "text": [
      "Number of even numbers 4\n",
      "Number of odd numbers 5\n"
     ]
    }
   ],
   "source": [
    "Num=(range(1,10))\n",
    "even_count = 0\n",
    "odd_count = 0\n",
    "for s in Num:\n",
    "    if s %2 == 0:\n",
    "        even_count += 1\n",
    "    else:\n",
    "        odd_count += 1\n",
    "print(\"Number of even numbers\" , even_count)\n",
    "print(\"Number of odd numbers\" , odd_count)"
   ]
  },
  {
   "cell_type": "code",
   "execution_count": null,
   "id": "3b43b671",
   "metadata": {},
   "outputs": [],
   "source": []
  },
  {
   "cell_type": "code",
   "execution_count": null,
   "id": "f1faca7c",
   "metadata": {},
   "outputs": [],
   "source": []
  },
  {
   "cell_type": "code",
   "execution_count": null,
   "id": "1e0d48c3",
   "metadata": {},
   "outputs": [],
   "source": []
  },
  {
   "cell_type": "code",
   "execution_count": null,
   "id": "7fa38d64",
   "metadata": {},
   "outputs": [],
   "source": []
  }
 ],
 "metadata": {
  "kernelspec": {
   "display_name": "Python 3 (ipykernel)",
   "language": "python",
   "name": "python3"
  },
  "language_info": {
   "codemirror_mode": {
    "name": "ipython",
    "version": 3
   },
   "file_extension": ".py",
   "mimetype": "text/x-python",
   "name": "python",
   "nbconvert_exporter": "python",
   "pygments_lexer": "ipython3",
   "version": "3.10.0"
  }
 },
 "nbformat": 4,
 "nbformat_minor": 5
}
